{
  "nbformat": 4,
  "nbformat_minor": 0,
  "metadata": {
    "colab": {
      "provenance": [],
      "gpuType": "T4",
      "include_colab_link": true
    },
    "kernelspec": {
      "name": "python3",
      "display_name": "Python 3"
    },
    "language_info": {
      "name": "python"
    },
    "accelerator": "GPU"
  },
  "cells": [
    {
      "cell_type": "markdown",
      "metadata": {
        "id": "view-in-github",
        "colab_type": "text"
      },
      "source": [
        "<a href=\"https://colab.research.google.com/github/ThisarikaTNA/sentiment_analysis-CM3604/blob/main/LSTM_model.ipynb\" target=\"_parent\"><img src=\"https://colab.research.google.com/assets/colab-badge.svg\" alt=\"Open In Colab\"/></a>"
      ]
    },
    {
      "cell_type": "markdown",
      "source": [
        "Import necessary Libraries"
      ],
      "metadata": {
        "id": "vCiUfwPL6kl4"
      }
    },
    {
      "cell_type": "code",
      "execution_count": null,
      "metadata": {
        "id": "sA2t6t5FS3jL"
      },
      "outputs": [],
      "source": [
        "import pandas as pd\n",
        "import numpy as np\n",
        "import matplotlib.pyplot as plt\n",
        "import seaborn as sns\n",
        "from sklearn.model_selection import train_test_split\n",
        "from sklearn.metrics import accuracy_score\n",
        "from sklearn.feature_extraction.text import ENGLISH_STOP_WORDS\n",
        "from sklearn.feature_extraction.text import CountVectorizer\n",
        "from transformers import DistilBertTokenizer, TFDistilBertForSequenceClassification\n",
        "from sklearn.metrics import precision_score, recall_score, f1_score, confusion_matrix\n",
        "import tensorflow as tf\n",
        "from tensorflow.keras.preprocessing.sequence import pad_sequences\n",
        "from tensorflow.keras.models import Sequential\n",
        "from tensorflow.keras.layers import Embedding, LSTM, Dense, Bidirectional\n",
        "from tensorflow.keras.optimizers import Adam"
      ]
    },
    {
      "cell_type": "code",
      "source": [
        "from google.colab import drive\n",
        "drive.mount('/content/drive')"
      ],
      "metadata": {
        "colab": {
          "base_uri": "https://localhost:8080/"
        },
        "id": "7XCNlnrCRce4",
        "outputId": "3fc8857d-935b-4355-ef92-5641647a6144"
      },
      "execution_count": null,
      "outputs": [
        {
          "output_type": "stream",
          "name": "stdout",
          "text": [
            "Mounted at /content/drive\n"
          ]
        }
      ]
    },
    {
      "cell_type": "code",
      "source": [
        "review_datasetpath = '/content/drive/MyDrive/yelp_dataset/yelp_academic_dataset_review.json'\n"
      ],
      "metadata": {
        "id": "5qfUk84lajMK"
      },
      "execution_count": null,
      "outputs": []
    },
    {
      "cell_type": "markdown",
      "source": [
        "Load ans Print sample review dataset data"
      ],
      "metadata": {
        "id": "3UERFSFj6-Xn"
      }
    },
    {
      "cell_type": "code",
      "source": [
        "# Load review data\n",
        "review_df = pd.read_json(review_datasetpath, lines=True, nrows=1000000)\n",
        "\n",
        "print(\"Review DataFrame Info:\")\n",
        "print(review_df.info())\n",
        "\n",
        "print(\"Sample of Review DataFrame:\")\n",
        "print(review_df.head())\n",
        "\n"
      ],
      "metadata": {
        "colab": {
          "base_uri": "https://localhost:8080/"
        },
        "id": "3carIZbGUgtM",
        "outputId": "48f92457-10e9-40a2-deb4-63968d4fcc4a"
      },
      "execution_count": null,
      "outputs": [
        {
          "output_type": "stream",
          "name": "stdout",
          "text": [
            "Review DataFrame Info:\n",
            "<class 'pandas.core.frame.DataFrame'>\n",
            "RangeIndex: 1000000 entries, 0 to 999999\n",
            "Data columns (total 9 columns):\n",
            " #   Column       Non-Null Count    Dtype         \n",
            "---  ------       --------------    -----         \n",
            " 0   review_id    1000000 non-null  object        \n",
            " 1   user_id      1000000 non-null  object        \n",
            " 2   business_id  1000000 non-null  object        \n",
            " 3   stars        1000000 non-null  int64         \n",
            " 4   useful       1000000 non-null  int64         \n",
            " 5   funny        1000000 non-null  int64         \n",
            " 6   cool         1000000 non-null  int64         \n",
            " 7   text         1000000 non-null  object        \n",
            " 8   date         1000000 non-null  datetime64[ns]\n",
            "dtypes: datetime64[ns](1), int64(4), object(4)\n",
            "memory usage: 68.7+ MB\n",
            "None\n",
            "Sample of Review DataFrame:\n",
            "                review_id                 user_id             business_id  \\\n",
            "0  KU_O5udG6zpxOg-VcAEodg  mh_-eMZ6K5RLWhZyISBhwA  XQfwVwDr-v0ZS3_CbbE5Xw   \n",
            "1  BiTunyQ73aT9WBnpR9DZGw  OyoGAe7OKpv6SyGZT5g77Q  7ATYjTIgM3jUlt4UM3IypQ   \n",
            "2  saUsX_uimxRlCVr67Z4Jig  8g_iMtfSiwikVnbP2etR0A  YjUWPpI6HXG530lwP-fb2A   \n",
            "3  AqPFMleE6RsU23_auESxiA  _7bHUi9Uuf5__HHc_Q8guQ  kxX2SOes4o-D3ZQBkiMRfA   \n",
            "4  Sx8TMOWLNuJBWer-0pcmoA  bcjbaE6dDog4jkNY91ncLQ  e4Vwtrqf-wpJfwesgvdgxQ   \n",
            "\n",
            "   stars  useful  funny  cool  \\\n",
            "0      3       0      0     0   \n",
            "1      5       1      0     1   \n",
            "2      3       0      0     0   \n",
            "3      5       1      0     1   \n",
            "4      4       1      0     1   \n",
            "\n",
            "                                                text                date  \n",
            "0  If you decide to eat here, just be aware it is... 2018-07-07 22:09:11  \n",
            "1  I've taken a lot of spin classes over the year... 2012-01-03 15:28:18  \n",
            "2  Family diner. Had the buffet. Eclectic assortm... 2014-02-05 20:30:30  \n",
            "3  Wow!  Yummy, different,  delicious.   Our favo... 2015-01-04 00:01:03  \n",
            "4  Cute interior and owner (?) gave us tour of up... 2017-01-14 20:54:15  \n"
          ]
        }
      ]
    },
    {
      "cell_type": "code",
      "source": [
        "# Create a new column \"length\" with the word length of the review\n",
        "review_df['length'] = review_df['text'].apply(lambda x: len(x.split()))"
      ],
      "metadata": {
        "id": "LO6Hh3OTnMwe"
      },
      "execution_count": null,
      "outputs": []
    },
    {
      "cell_type": "code",
      "source": [
        "# Visualize the correlation between stars and the length of the review\n",
        "sns.scatterplot(x='stars', y='length', data=review_df)\n",
        "plt.title('Correlation between Stars and Review Length')\n",
        "plt.show()\n"
      ],
      "metadata": {
        "colab": {
          "base_uri": "https://localhost:8080/",
          "height": 472
        },
        "id": "uC1PVjISndL_",
        "outputId": "5ad4391d-63b5-482e-f997-bb6d220998c8"
      },
      "execution_count": null,
      "outputs": [
        {
          "output_type": "display_data",
          "data": {
            "text/plain": [
              "<Figure size 640x480 with 1 Axes>"
            ],
            "image/png": "[encoded data removed]"
          },
          "metadata": {}
        }
      ]
    },
    {
      "cell_type": "code",
      "source": [
        "# getting mean value of the vote columns\n",
        "mean_votes = review_df[['useful', 'funny', 'cool']].mean()\n",
        "print('Mean Value of the Vote columns:')\n",
        "print(mean_votes)\n"
      ],
      "metadata": {
        "colab": {
          "base_uri": "https://localhost:8080/"
        },
        "id": "fANoliJHnx_7",
        "outputId": "59254667-4552-4737-dbc7-bb17ed6c2d05"
      },
      "execution_count": null,
      "outputs": [
        {
          "output_type": "stream",
          "name": "stdout",
          "text": [
            "Mean Value of the Vote columns:\n",
            "useful    1.106594\n",
            "funny     0.307812\n",
            "cool      0.457129\n",
            "dtype: float64\n"
          ]
        }
      ]
    },
    {
      "cell_type": "code",
      "source": [
        "# Correlation between the voting columns\n",
        "correlation_matrix = review_df[['useful', 'funny', 'cool']].corr()\n",
        "print('\\nCorrelation between the voting columns:')\n",
        "print(correlation_matrix)"
      ],
      "metadata": {
        "colab": {
          "base_uri": "https://localhost:8080/"
        },
        "id": "4P8fcq6in6cC",
        "outputId": "00621465-7b47-4e1a-a66e-094f66a82769"
      },
      "execution_count": null,
      "outputs": [
        {
          "output_type": "stream",
          "name": "stdout",
          "text": [
            "\n",
            "Correlation between the voting columns:\n",
            "          useful     funny      cool\n",
            "useful  1.000000  0.575495  0.690023\n",
            "funny   0.575495  1.000000  0.708279\n",
            "cool    0.690023  0.708279  1.000000\n"
          ]
        }
      ]
    },
    {
      "cell_type": "markdown",
      "source": [
        "Preprocess the Dataset"
      ],
      "metadata": {
        "id": "lWS3qH4L757z"
      }
    },
    {
      "cell_type": "code",
      "source": [
        "def preprocess_text(text):\n",
        "    text = text.lower()\n",
        "    text = ' '.join([word for word in text.split() if word not in ENGLISH_STOP_WORDS])\n",
        "    text = ''.join([char for char in text if char.isalnum() or char.isspace()])\n",
        "    return text\n",
        "\n",
        "\n",
        "# Apply text preprocessing to the 'text' column in the review DataFrame\n",
        "review_df['text'] = review_df['text'].apply(preprocess_text)\n",
        "\n",
        "# Handle missing values if any\n",
        "review_df.dropna(inplace=True)\n",
        "\n",
        "# Remove duplicate rows based on the 'text' column\n",
        "review_df.drop_duplicates(subset=['text'], inplace=True)\n",
        "\n",
        "# Assuming sentiment is positive for stars greater than or equal to 4, and negative otherwise\n",
        "review_df['label'] = (review_df['stars'] >= 4).astype(int)\n",
        "\n",
        "# Display the preprocessed DataFrame\n",
        "print(\"\\nSample of Preprocessed Review DataFrame:\")\n",
        "print(review_df.head())\n"
      ],
      "metadata": {
        "colab": {
          "base_uri": "https://localhost:8080/"
        },
        "id": "Hvtm0gJp3DkD",
        "outputId": "2a6a9163-902f-49d0-d66c-f841eed27a51"
      },
      "execution_count": null,
      "outputs": [
        {
          "output_type": "stream",
          "name": "stdout",
          "text": [
            "\n",
            "Sample of Preprocessed Review DataFrame:\n",
            "                review_id                 user_id             business_id  \\\n",
            "0  KU_O5udG6zpxOg-VcAEodg  mh_-eMZ6K5RLWhZyISBhwA  XQfwVwDr-v0ZS3_CbbE5Xw   \n",
            "1  BiTunyQ73aT9WBnpR9DZGw  OyoGAe7OKpv6SyGZT5g77Q  7ATYjTIgM3jUlt4UM3IypQ   \n",
            "2  saUsX_uimxRlCVr67Z4Jig  8g_iMtfSiwikVnbP2etR0A  YjUWPpI6HXG530lwP-fb2A   \n",
            "3  AqPFMleE6RsU23_auESxiA  _7bHUi9Uuf5__HHc_Q8guQ  kxX2SOes4o-D3ZQBkiMRfA   \n",
            "4  Sx8TMOWLNuJBWer-0pcmoA  bcjbaE6dDog4jkNY91ncLQ  e4Vwtrqf-wpJfwesgvdgxQ   \n",
            "\n",
            "   stars  useful  funny  cool  \\\n",
            "0      3       0      0     0   \n",
            "1      5       1      0     1   \n",
            "2      3       0      0     0   \n",
            "3      5       1      0     1   \n",
            "4      4       1      0     1   \n",
            "\n",
            "                                                text                date  \\\n",
            "0  decide eat here just aware going 2 hours begin... 2018-07-07 22:09:11   \n",
            "1  ive taken lot spin classes years compares clas... 2012-01-03 15:28:18   \n",
            "2  family diner buffet eclectic assortment large ... 2014-02-05 20:30:30   \n",
            "3  wow yummy different delicious favorite lamb cu... 2015-01-04 00:01:03   \n",
            "4  cute interior owner  gave tour upcoming patior... 2017-01-14 20:54:15   \n",
            "\n",
            "   length  label  \n",
            "0     101      0  \n",
            "1     151      1  \n",
            "2      55      0  \n",
            "3      40      1  \n",
            "4      94      1  \n"
          ]
        }
      ]
    },
    {
      "cell_type": "code",
      "source": [
        "# Save the preprocessed review DataFrame to a CSV file\n",
        "preprocessed_csv_path = '/content/drive/MyDrive/yelp_dataset/preprocessed_reviews.csv'\n",
        "review_df.to_csv(preprocessed_csv_path, index=False)\n",
        "print(f\"Preprocessed dataset saved to {preprocessed_csv_path}\")\n",
        "\n"
      ],
      "metadata": {
        "colab": {
          "base_uri": "https://localhost:8080/"
        },
        "id": "9ioPziyvVf1a",
        "outputId": "16b6209d-c4fd-4662-e18e-32e81ada065a"
      },
      "execution_count": null,
      "outputs": [
        {
          "output_type": "stream",
          "name": "stdout",
          "text": [
            "Preprocessed dataset saved to /content/drive/MyDrive/yelp_dataset/preprocessed_reviews.csv\n"
          ]
        }
      ]
    },
    {
      "cell_type": "markdown",
      "source": [
        "Split the dataset into training (80%) and test (20%) sets"
      ],
      "metadata": {
        "id": "T448TWiy8nTR"
      }
    },
    {
      "cell_type": "code",
      "source": [
        "train_data, test_data = train_test_split(review_df, test_size=0.2, random_state=42)"
      ],
      "metadata": {
        "id": "YX7-Rw1U8pmG"
      },
      "execution_count": null,
      "outputs": []
    },
    {
      "cell_type": "code",
      "source": [
        "# Load  preprocessed Yelp Reviews dataset\n",
        "data = pd.read_csv('/content/drive/MyDrive/yelp_dataset/preprocessed_reviews.csv')\n",
        "\n",
        "# getting data to list from the lable column for sentiment (0 or 1)\n",
        "labels = data['label'].tolist()\n",
        "\n"
      ],
      "metadata": {
        "id": "lpVtccUzV7Cm"
      },
      "execution_count": null,
      "outputs": []
    },
    {
      "cell_type": "markdown",
      "source": [
        "Model 1: LSTM"
      ],
      "metadata": {
        "id": "9GfMC0xk9UYU"
      }
    },
    {
      "cell_type": "code",
      "source": [
        "max_len = 128\n",
        "tokenizer = tf.keras.preprocessing.text.Tokenizer()\n",
        "tokenizer.fit_on_texts(train_data['text'])\n",
        "\n",
        "train_sequences = tokenizer.texts_to_sequences(train_data['text'])\n",
        "test_sequences = tokenizer.texts_to_sequences(test_data['text'])\n",
        "\n",
        "train_padded = pad_sequences(train_sequences, maxlen=max_len, padding='post', truncating='post')\n",
        "test_padded = pad_sequences(test_sequences, maxlen=max_len, padding='post', truncating='post')\n"
      ],
      "metadata": {
        "id": "hYNau2rAW1wK"
      },
      "execution_count": null,
      "outputs": []
    },
    {
      "cell_type": "code",
      "source": [
        "lstm_model = Sequential()\n",
        "lstm_model.add(Embedding(len(tokenizer.word_index) + 1, 128, input_length=max_len))\n",
        "lstm_model.add(Bidirectional(LSTM(64)))\n",
        "lstm_model.add(Dense(1, activation='sigmoid'))\n",
        "\n",
        "lstm_model.compile(optimizer='adam', loss='binary_crossentropy', metrics=['accuracy'])\n",
        "lstm_model.fit(train_padded, train_data['label'], epochs=10, batch_size=32, validation_data=(test_padded, test_data['label']))"
      ],
      "metadata": {
        "colab": {
          "base_uri": "https://localhost:8080/"
        },
        "id": "A7vSBYoVRu8y",
        "outputId": "df99d290-9389-472a-d078-4f96fda3d227"
      },
      "execution_count": null,
      "outputs": [
        {
          "output_type": "stream",
          "name": "stdout",
          "text": [
            "Epoch 1/10\n",
            "24951/24951 [==============================] - 698s 28ms/step - loss: 0.2254 - accuracy: 0.9087 - val_loss: 0.2013 - val_accuracy: 0.9191\n",
            "Epoch 2/10\n",
            "24951/24951 [==============================] - 618s 25ms/step - loss: 0.1741 - accuracy: 0.9311 - val_loss: 0.1958 - val_accuracy: 0.9212\n",
            "Epoch 3/10\n",
            "24951/24951 [==============================] - 624s 25ms/step - loss: 0.1341 - accuracy: 0.9487 - val_loss: 0.2196 - val_accuracy: 0.9153\n",
            "Epoch 4/10\n",
            "24951/24951 [==============================] - 617s 25ms/step - loss: 0.0980 - accuracy: 0.9637 - val_loss: 0.2474 - val_accuracy: 0.9097\n",
            "Epoch 5/10\n",
            "24951/24951 [==============================] - 614s 25ms/step - loss: 0.0723 - accuracy: 0.9736 - val_loss: 0.3128 - val_accuracy: 0.9037\n",
            "Epoch 6/10\n",
            "24951/24951 [==============================] - 611s 24ms/step - loss: 0.0543 - accuracy: 0.9804 - val_loss: 0.3545 - val_accuracy: 0.8964\n",
            "Epoch 7/10\n",
            "24951/24951 [==============================] - 618s 25ms/step - loss: 0.0418 - accuracy: 0.9851 - val_loss: 0.4075 - val_accuracy: 0.8946\n",
            "Epoch 8/10\n",
            "24951/24951 [==============================] - 613s 25ms/step - loss: 0.0328 - accuracy: 0.9884 - val_loss: 0.4637 - val_accuracy: 0.8934\n",
            "Epoch 9/10\n",
            "24951/24951 [==============================] - 608s 24ms/step - loss: 0.0259 - accuracy: 0.9910 - val_loss: 0.4743 - val_accuracy: 0.8926\n",
            "Epoch 10/10\n",
            "24951/24951 [==============================] - 616s 25ms/step - loss: 0.0218 - accuracy: 0.9923 - val_loss: 0.5259 - val_accuracy: 0.8896\n"
          ]
        },
        {
          "output_type": "execute_result",
          "data": {
            "text/plain": [
              "<keras.src.callbacks.History at 0x7de7128b9ba0>"
            ]
          },
          "metadata": {},
          "execution_count": 22
        }
      ]
    },
    {
      "cell_type": "markdown",
      "source": [
        "Evaluate and Calculate metrics for LSTM model"
      ],
      "metadata": {
        "id": "6r7vuc6w-hRb"
      }
    },
    {
      "cell_type": "code",
      "source": [
        "lstm_predictions = lstm_model.predict(test_padded)\n",
        "lstm_predictions = np.round(lstm_predictions).flatten()\n",
        "lstm_accuracy = accuracy_score(test_data['label'], lstm_predictions)\n",
        "print(f'LSTM Model Accuracy: {lstm_accuracy * 100:.2f}%')"
      ],
      "metadata": {
        "id": "3BpQrSdbRz4-",
        "colab": {
          "base_uri": "https://localhost:8080/"
        },
        "outputId": "60f71f56-d7ff-4655-afbe-ce5477a04c19"
      },
      "execution_count": null,
      "outputs": [
        {
          "output_type": "stream",
          "name": "stdout",
          "text": [
            "6238/6238 [==============================] - 34s 5ms/step\n",
            "LSTM Model Accuracy: 88.96%\n"
          ]
        }
      ]
    },
    {
      "cell_type": "code",
      "source": [
        "lstm_precision = precision_score(test_data['label'], lstm_predictions)\n",
        "lstm_recall = recall_score(test_data['label'], lstm_predictions)\n",
        "lstm_f1 = f1_score(test_data['label'], lstm_predictions)\n",
        "lstm_conf_matrix = confusion_matrix(test_data['label'], lstm_predictions)\n",
        "\n",
        "print(f'LSTM Model Precision: {lstm_precision:.2f}')\n",
        "print(f'LSTM Model Recall: {lstm_recall:.2f}')\n",
        "print(f'LSTM Model F1 Score: {lstm_f1:.2f}')\n",
        "print('LSTM Model Confusion Matrix:')\n",
        "print(lstm_conf_matrix)\n"
      ],
      "metadata": {
        "id": "1XG5ckb-Jf7L",
        "colab": {
          "base_uri": "https://localhost:8080/"
        },
        "outputId": "39c74a24-a078-4c44-c0a8-899c292ee30b"
      },
      "execution_count": null,
      "outputs": [
        {
          "output_type": "stream",
          "name": "stdout",
          "text": [
            "LSTM Model Precision: 0.92\n",
            "LSTM Model Recall: 0.91\n",
            "LSTM Model F1 Score: 0.92\n",
            "LSTM Model Confusion Matrix:\n",
            "[[ 53803  10082]\n",
            " [ 11951 123770]]\n"
          ]
        }
      ]
    }
  ]
}